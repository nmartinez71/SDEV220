{
 "cells": [
  {
   "cell_type": "code",
   "execution_count": null,
   "metadata": {},
   "outputs": [
    {
     "data": {
      "text/plain": [
       "'\\nNeftali Martinez\\nModule 3 Tutorials\\nThe programs here are part of a Module 3 Tutorial\\n'"
      ]
     },
     "execution_count": 6,
     "metadata": {},
     "output_type": "execute_result"
    }
   ],
   "source": [
    "\"\"\"\n",
    "Neftali Martinez\n",
    "Module 3 Tutorials\n",
    "The programs here are part of a Module 3 Tutorial\n",
    "\"\"\""
   ]
  },
  {
   "cell_type": "code",
   "execution_count": null,
   "metadata": {},
   "outputs": [
    {
     "name": "stdout",
     "output_type": "stream",
     "text": [
      "[0, 1, 1, 0, 1, 2, 1, 2, 0, 0, 0, 1]\n",
      "[0, 1, 1, 0, 1, 2, 1, 2, 0, 0, 0, 1]\n",
      "[0, 0, 1, 1, 1, 2, 1, 2, 0, 0, 0, 1]\n",
      "[0, 0, 0, 1, 1, 2, 1, 2, 1, 0, 0, 1]\n",
      "[0, 0, 0, 0, 1, 2, 1, 2, 1, 1, 0, 1]\n",
      "[0, 0, 0, 0, 0, 2, 1, 2, 1, 1, 1, 1]\n",
      "[0, 0, 0, 0, 0, 1, 2, 2, 1, 1, 1, 1]\n",
      "[0, 0, 0, 0, 0, 1, 1, 2, 2, 1, 1, 1]\n",
      "[0, 0, 0, 0, 0, 1, 1, 1, 2, 2, 1, 1]\n",
      "[0, 0, 0, 0, 0, 1, 1, 1, 1, 2, 2, 1]\n",
      "[0, 0, 0, 0, 0, 1, 1, 1, 1, 1, 2, 2]\n",
      "[0, 0, 0, 0, 0, 1, 1, 1, 1, 1, 2, 2]\n",
      "[0, 0, 0, 0, 0, 1, 1, 1, 1, 1, 2, 2]\n"
     ]
    }
   ],
   "source": [
    "\"\"\"\n",
    "Object Oriented Programming\n",
    "\"\"\"\n",
    "\n",
    "class Solution:\n",
    "    def sort012(self, arr):\n",
    "        for i in range(0, len(arr)):\n",
    "            print(arr)\n",
    "            for x in range(i+1, len(arr)):\n",
    "                if arr[i] > arr[x]:\n",
    "                    arr[i], arr[x] = arr[x], arr[i]\n",
    "        return print(arr)\n",
    "arr = [0,1,1,0,1,2,1,2,0,0,0,1]\n",
    "Solution().sort012(arr)\n"
   ]
  },
  {
   "cell_type": "code",
   "execution_count": 57,
   "metadata": {},
   "outputs": [
    {
     "name": "stdout",
     "output_type": "stream",
     "text": [
      "11 appears at index 0\n"
     ]
    }
   ],
   "source": [
    "class Solution:\n",
    "    def binarysearch(self, arr, k):\n",
    "        minimum, maximum = 0, len(arr) - 1\n",
    "        while minimum <= maximum:\n",
    "            median = (minimum + maximum) // 2\n",
    "            if arr[median] == k:\n",
    "                print(f\"{k} appears at index\",arr.index(k))\n",
    "                return\n",
    "            elif arr[median] < k:\n",
    "                minimum = median + 1\n",
    "            else:\n",
    "                maximum = median - 1\n",
    "        print(f\"{k} was not found in the list\")\n",
    "        return \n",
    "\n",
    "arr = [11,22,33,44,55]\n",
    "k = int(input(\"Enter a number to search in the list:\"))\n",
    "Solution().binarysearch(arr, k)"
   ]
  }
 ],
 "metadata": {
  "kernelspec": {
   "display_name": "Python 3",
   "language": "python",
   "name": "python3"
  },
  "language_info": {
   "codemirror_mode": {
    "name": "ipython",
    "version": 3
   },
   "file_extension": ".py",
   "mimetype": "text/x-python",
   "name": "python",
   "nbconvert_exporter": "python",
   "pygments_lexer": "ipython3",
   "version": "3.12.7"
  }
 },
 "nbformat": 4,
 "nbformat_minor": 2
}
