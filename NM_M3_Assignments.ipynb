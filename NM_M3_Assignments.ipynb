{
 "cells": [
  {
   "cell_type": "code",
   "execution_count": null,
   "metadata": {},
   "outputs": [],
   "source": [
    "\"\"\"\n",
    "Module 3 Assignment \n",
    "Neftali Martinez \n",
    "This program is the THings to Do section of the Book for the Module 3\n",
    "Assignment.\n",
    "\"\"\""
   ]
  },
  {
   "cell_type": "code",
   "execution_count": null,
   "metadata": {},
   "outputs": [
    {
     "name": "stdout",
     "output_type": "stream",
     "text": [
      "My third birthday was in 2003 and was the oldest in 2005.\n"
     ]
    }
   ],
   "source": [
    "\"\"\"\n",
    "7.1 & 7.2\n",
    "\"\"\"\n",
    "\n",
    "years_list = [2000, 2001, 2002, 2003, 2004, 2005]\n",
    "\n",
    "print(f\"My third birthday was in {years_list[3]} and was the oldest in {years_list[5]}.\")\n"
   ]
  },
  {
   "cell_type": "code",
   "execution_count": 24,
   "metadata": {},
   "outputs": [
    {
     "name": "stdout",
     "output_type": "stream",
     "text": [
      "Cinderella\n",
      "MOZZARELLA\n",
      "Salmonella removed\n",
      "mozzarella cinderella\n"
     ]
    }
   ],
   "source": [
    "\"\"\"\n",
    "7.4 - 7.7\n",
    "\"\"\"\n",
    "\n",
    "things = [\"mozzarella\", \"cinderella\", \"salmonella\"]\n",
    "\n",
    "if \"cinderella\" in things:\n",
    "    print(things[1].capitalize())\n",
    "if \"mozzarella\" in things:\n",
    "    print(things[0].upper())\n",
    "if \"salmonella\" in things:\n",
    "    del things[2]\n",
    "    print(\"Salmonella removed\")\n",
    "    print(*things)\n",
    "\n",
    "\n"
   ]
  },
  {
   "cell_type": "code",
   "execution_count": 53,
   "metadata": {},
   "outputs": [
    {
     "name": "stdout",
     "output_type": "stream",
     "text": [
      "Harry Ron Hermoine\n",
      "5\n"
     ]
    }
   ],
   "source": [
    "\"\"\"\n",
    "9.1 & 9.2\n",
    "\"\"\"\n",
    "\n",
    "#9.1\n",
    "def good():\n",
    "    good_list = ['Harry', 'Ron', 'Hermoine']\n",
    "    return print(*good_list)\n",
    "\n",
    "#9.2\n",
    "def get_odds():\n",
    "    count = 0\n",
    "    for num in range(10):\n",
    "        if not num % 2 == 0:\n",
    "            count += 1\n",
    "            if count == 3:\n",
    "                print(num)\n",
    "        \n",
    "\n",
    "good()\n",
    "get_odds()"
   ]
  }
 ],
 "metadata": {
  "kernelspec": {
   "display_name": "Python 3",
   "language": "python",
   "name": "python3"
  },
  "language_info": {
   "codemirror_mode": {
    "name": "ipython",
    "version": 3
   },
   "file_extension": ".py",
   "mimetype": "text/x-python",
   "name": "python",
   "nbconvert_exporter": "python",
   "pygments_lexer": "ipython3",
   "version": "3.12.7"
  }
 },
 "nbformat": 4,
 "nbformat_minor": 2
}
