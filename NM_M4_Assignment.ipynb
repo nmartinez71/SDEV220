{
 "cells": [
  {
   "cell_type": "code",
   "execution_count": 3,
   "metadata": {},
   "outputs": [
    {
     "name": "stdout",
     "output_type": "stream",
     "text": [
      "OPen 9-5 daily\n"
     ]
    }
   ],
   "source": [
    "\"\"\"\n",
    "Module 4 Assignment \n",
    "Neftali Martinez \n",
    "This program is the THings to Do section of the Book for the Module 4\n",
    "Assignment.\n",
    "\"\"\"\n",
    "#11.1 and 2\n",
    "import zoo as menagerie\n",
    "\n",
    "\n",
    "menagerie.hours()"
   ]
  },
  {
   "cell_type": "code",
   "execution_count": null,
   "metadata": {},
   "outputs": [
    {
     "name": "stdout",
     "output_type": "stream",
     "text": [
      "Database 'books.db' and table 'books' created\n"
     ]
    }
   ],
   "source": [
    "#16.1-7 \n",
    "#Only execute once to create the database\n",
    "\n",
    "import sqlite3\n",
    "import csv\n",
    "from sqlalchemy import create_engine, Column, Integer, String\n",
    "from sqlalchemy.ext.declarative import declarative_base\n",
    "from sqlalchemy.orm import sessionmaker\n",
    "\n",
    "conn = sqlite3.connect('books.db')\n",
    "cursor = conn.cursor()\n",
    "cursor.execute('''\n",
    "    CREATE TABLE IF NOT EXISTS books (\n",
    "        title TEXT,\n",
    "        author TEXT,\n",
    "        year INTEGER\n",
    "    )\n",
    "''')\n",
    "conn.commit()\n",
    "print(\"Database 'books.db' and table 'books' created\")\n",
    "\n",
    "\n",
    "with open('books2.csv', 'r') as file:\n",
    "    reader = csv.reader(file)\n",
    "    next(reader)  # Skip the header row\n",
    "    for row in reader:\n",
    "        cursor.execute('''\n",
    "            INSERT INTO books (title, author, year)\n",
    "            VALUES (?, ?, ?)\n",
    "        ''', (row[0], row[1], row[2]))\n",
    "\n",
    "conn.commit()\n",
    "conn.close()\n",
    "\n"
   ]
  },
  {
   "cell_type": "code",
   "execution_count": null,
   "metadata": {},
   "outputs": [
    {
     "name": "stdout",
     "output_type": "stream",
     "text": [
      "Perdido Street Station\n",
      "Small Gods\n",
      "The Spellman Files\n",
      "The Weirdstone of Brisingamen\n",
      "Thud!\n"
     ]
    }
   ],
   "source": [
    "#16.8\n",
    "#Executes in alphabetical order\n",
    "if True:\n",
    "    reconn = sqlite3.connect('books.db') #Reconnects the database\n",
    "    newcursor = reconn.cursor()\n",
    "    newcursor.execute('SELECT title FROM books ORDER BY title ASC')\n",
    "    booktitles = newcursor.fetchall()\n",
    "    for title in booktitles:\n",
    "        print(title[0])\n",
    "    newcursor.close()\n",
    "    reconn.close()"
   ]
  }
 ],
 "metadata": {
  "kernelspec": {
   "display_name": "Python 3",
   "language": "python",
   "name": "python3"
  },
  "language_info": {
   "codemirror_mode": {
    "name": "ipython",
    "version": 3
   },
   "file_extension": ".py",
   "mimetype": "text/x-python",
   "name": "python",
   "nbconvert_exporter": "python",
   "pygments_lexer": "ipython3",
   "version": "3.10.11"
  }
 },
 "nbformat": 4,
 "nbformat_minor": 2
}
