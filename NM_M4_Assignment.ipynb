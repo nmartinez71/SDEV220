{
 "cells": [
  {
   "cell_type": "code",
   "execution_count": 1,
   "metadata": {},
   "outputs": [
    {
     "name": "stdout",
     "output_type": "stream",
     "text": [
      "OPen 9-5 daily\n"
     ]
    }
   ],
   "source": [
    "\"\"\"\n",
    "Module 3 Assignment \n",
    "Neftali Martinez \n",
    "This program is the THings to Do section of the Book for the Module 3\n",
    "Assignment.\n",
    "\"\"\"\n",
    "\n",
    "from zoo import hours as menagerie\n",
    "\n",
    "menagerie()"
   ]
  }
 ],
 "metadata": {
  "kernelspec": {
   "display_name": "Python 3",
   "language": "python",
   "name": "python3"
  },
  "language_info": {
   "codemirror_mode": {
    "name": "ipython",
    "version": 3
   },
   "file_extension": ".py",
   "mimetype": "text/x-python",
   "name": "python",
   "nbconvert_exporter": "python",
   "pygments_lexer": "ipython3",
   "version": "3.10.11"
  }
 },
 "nbformat": 4,
 "nbformat_minor": 2
}
