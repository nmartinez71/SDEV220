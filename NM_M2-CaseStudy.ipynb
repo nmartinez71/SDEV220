{
 "cells": [
  {
   "cell_type": "code",
   "execution_count": 1,
   "metadata": {},
   "outputs": [
    {
     "data": {
      "text/plain": [
       "'\\nName: Neftali Martinez\\nProgram: Student GPA Checker\\nThis program checks if the student is part of the Deans List or the Honor Roll\\n'"
      ]
     },
     "execution_count": 1,
     "metadata": {},
     "output_type": "execute_result"
    }
   ],
   "source": [
    "\"\"\"\n",
    "Name: Neftali Martinez\n",
    "Program: Student GPA Checker\n",
    "This program checks if the student is part of the Deans List or the Honor Roll\n",
    "\"\"\""
   ]
  },
  {
   "cell_type": "code",
   "execution_count": 2,
   "metadata": {},
   "outputs": [
    {
     "name": "stdout",
     "output_type": "stream",
     "text": [
      "Student GPA checker!\n",
      "\n",
      "Type ZZZ to quit\n"
     ]
    }
   ],
   "source": [
    "print(\"Student GPA checker!\")\n",
    "print(\"\\nType ZZZ to quit\")"
   ]
  },
  {
   "cell_type": "code",
   "execution_count": null,
   "metadata": {},
   "outputs": [
    {
     "name": "stdout",
     "output_type": "stream",
     "text": [
      "Neftali Martinez has not made it to either Dean's List or Honor Roll.\n",
      "Ivan Stewart has not made it to either Dean's List or Honor Roll.\n",
      "Colby Jack has not made it to either Dean's List or Honor Roll.\n",
      "St. John made it to the Honor Roll with a GPA of 3.42 !\n",
      "Mark Hamill made it to the Dean's List with a GPA of 3.5 !\n",
      "Invalid GPA. Please enter a number.\n",
      "Invalid GPA. Please enter a number.\n"
     ]
    }
   ],
   "source": [
    "QUIT = \"ZZZ\"\n",
    "\n",
    "while True:\n",
    "    student_lastname = input(\"Student last name:\")\n",
    "    if student_lastname == QUIT:\n",
    "        break\n",
    "\n",
    "    student_firstname = input(\"Student first name:\")\n",
    "    if student_firstname == QUIT:\n",
    "        break\n",
    "\n",
    "    try:\n",
    "        student_gpa = float(input(\"Enter student GPA: \"))\n",
    "    except ValueError:\n",
    "        print(\"Invalid GPA. Please enter a number.\")\n",
    "        continue  # Skip this iteration if GPA is invalid\n",
    "\n",
    "    if student_gpa >= 3.5:\n",
    "        print(student_firstname, student_lastname,\"made it to the Dean's List with a GPA of\",student_gpa,\"!\")\n",
    "    elif student_gpa >= 3.25 and student_gpa < 3.5:\n",
    "        print(student_firstname, student_lastname,\"made it to the Honor Roll with a GPA of\",student_gpa,\"!\")\n",
    "    else:\n",
    "        print(student_firstname, student_lastname,\"has not made it to either Dean's List or Honor Roll.\")"
   ]
  }
 ],
 "metadata": {
  "kernelspec": {
   "display_name": "Python 3",
   "language": "python",
   "name": "python3"
  },
  "language_info": {
   "codemirror_mode": {
    "name": "ipython",
    "version": 3
   },
   "file_extension": ".py",
   "mimetype": "text/x-python",
   "name": "python",
   "nbconvert_exporter": "python",
   "pygments_lexer": "ipython3",
   "version": "3.12.7"
  }
 },
 "nbformat": 4,
 "nbformat_minor": 2
}
