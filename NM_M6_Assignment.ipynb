{
 "cells": [
  {
   "cell_type": "code",
   "execution_count": null,
   "metadata": {},
   "outputs": [],
   "source": [
    "\"\"\"\n",
    "Module 6 Assignment \n",
    "Neftali Martinez \n",
    "This program is the Things to do section in Chapter 13 and 15.\n",
    "\"\"\""
   ]
  },
  {
   "cell_type": "code",
   "execution_count": null,
   "metadata": {},
   "outputs": [
    {
     "name": "stdout",
     "output_type": "stream",
     "text": [
      "2024-12-01\n"
     ]
    }
   ],
   "source": [
    "#13.1\n",
    "from datetime import date, datetime\n",
    "today = date.today()\n",
    "print(today)\n",
    "\n",
    "with open('today.txt','w') as file:\n",
    "    file.write(str(today))\n",
    "    file.close"
   ]
  },
  {
   "cell_type": "code",
   "execution_count": null,
   "metadata": {},
   "outputs": [],
   "source": [
    "#13.2\n",
    "with open('today.txt','r') as file:\n",
    "    today_string = file.read()"
   ]
  },
  {
   "cell_type": "code",
   "execution_count": null,
   "metadata": {},
   "outputs": [
    {
     "name": "stdout",
     "output_type": "stream",
     "text": [
      "Today's date is 2024-12-01\n"
     ]
    }
   ],
   "source": [
    "#13.3\n",
    "today_date = datetime.strptime(today_string,\"%Y-%m-%d\").date()\n",
    "print(\"Today's date is\", today_date)"
   ]
  },
  {
   "cell_type": "code",
   "execution_count": null,
   "metadata": {},
   "outputs": [],
   "source": [
    "#15.1\n",
    "#The program does not run in a Jupyter file, I have included it in the submission of the assignment \n",
    "\n",
    "import multiprocessing, time, random\n",
    "from datetime import datetime\n",
    "\n",
    "\n",
    "def sayfunc():\n",
    "    wait = random.uniform(0,1) #Gives a number between 0 and 1 \n",
    "    time.sleep(wait) #Delays execution of the above by the wait variable\n",
    "\n",
    "    print(f\"The process is {multiprocessing.current_process().name} and the time is {datetime.now()}\")\n",
    "\n",
    "if __name__ == \"__main__\":\n",
    "    processes = []\n",
    "    for x in range(3):\n",
    "        p = multiprocessing.Process(target=sayfunc)\n",
    "        processes.append(p)\n",
    "        p.start()\n",
    "\n",
    "    for p in processes:\n",
    "        p.join()"
   ]
  }
 ],
 "metadata": {
  "kernelspec": {
   "display_name": "Python 3",
   "language": "python",
   "name": "python3"
  },
  "language_info": {
   "codemirror_mode": {
    "name": "ipython",
    "version": 3
   },
   "file_extension": ".py",
   "mimetype": "text/x-python",
   "name": "python",
   "nbconvert_exporter": "python",
   "pygments_lexer": "ipython3",
   "version": "3.13.0"
  }
 },
 "nbformat": 4,
 "nbformat_minor": 2
}
