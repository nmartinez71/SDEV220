{
 "cells": [
  {
   "cell_type": "code",
   "execution_count": 4,
   "metadata": {},
   "outputs": [
    {
     "name": "stdout",
     "output_type": "stream",
     "text": [
      "Vehicle type: Car\n",
      "Year: 2022\n",
      "Make: Toyota\n",
      "Model: Corolla\n",
      "Number of doors: 4\n",
      "Type of roof: sun roof\n"
     ]
    }
   ],
   "source": [
    "CAR = \"Car\"\n",
    "TRUCK = \"Truck\"\n",
    "PLANE = \"Plane\"\n",
    "BOAT = \"Boat\"\n",
    "BROOMSTICK = \"Broomstick\"\n",
    "\n",
    "class Vehicle:\n",
    "    def __init__(self, vehicle_type):\n",
    "        self.vehicle_type = vehicle_type\n",
    "\n",
    "    def listvtype(self):\n",
    "        print(f\"Vehicle type: {self.vehicle_type}\")\n",
    "class Automobile(Vehicle):\n",
    "    def __init__(self, year, make, model, doors, roof, vehicle_type = CAR):\n",
    "        super().__init__(vehicle_type)\n",
    "        self.year = year\n",
    "        self.make = make\n",
    "        self.model = model\n",
    "        self.doors = doors\n",
    "        self.roof = roof\n",
    "\n",
    "    def listcar(self):\n",
    "        self.listvtype()\n",
    "        print(f\"Year: {self.year}\")\n",
    "        print(f\"Make: {self.make}\")\n",
    "        print(f\"Model: {self.model}\")\n",
    "        print(f\"Number of doors: {self.doors}\")\n",
    "        print(f\"Type of roof: {self.roof}\")\n",
    "    \n",
    "year, make, model, doors, roof = input(\"Enter Car year:\"), input(\"Enter Car make:\"), input(\"Enter Car model:\"), input(\"Enter number of doors:\"), input(\"Enter type of roof:\")\n",
    "\n",
    "Automobile(year, make, model, doors, roof).listcar()\n",
    "\n"
   ]
  }
 ],
 "metadata": {
  "kernelspec": {
   "display_name": "Python 3",
   "language": "python",
   "name": "python3"
  },
  "language_info": {
   "codemirror_mode": {
    "name": "ipython",
    "version": 3
   },
   "file_extension": ".py",
   "mimetype": "text/x-python",
   "name": "python",
   "nbconvert_exporter": "python",
   "pygments_lexer": "ipython3",
   "version": "3.12.7"
  }
 },
 "nbformat": 4,
 "nbformat_minor": 2
}
