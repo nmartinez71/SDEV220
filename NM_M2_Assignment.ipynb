{
 "cells": [
  {
   "cell_type": "code",
   "execution_count": null,
   "metadata": {},
   "outputs": [
    {
     "data": {
      "text/plain": [
       "'\\nName: Neftali Martinez\\nProgram: Student GPA Checker\\nThis program checks if the student is part of the Deans List or the Honor Roll\\n'"
      ]
     },
     "execution_count": 1,
     "metadata": {},
     "output_type": "execute_result"
    }
   ],
   "source": [
    "\"\"\"\n",
    "Name: Neftali Martinez\n",
    "Program: Chapter 4 and 6 Exercises\n",
    "These programs are exercises in the textbook from the Things To Do in the Chapters.\n",
    "\"\"\""
   ]
  },
  {
   "cell_type": "code",
   "execution_count": null,
   "metadata": {},
   "outputs": [
    {
     "name": "stdout",
     "output_type": "stream",
     "text": [
      "Not an integer. Please enter an integer\n",
      "Not an integer. Please enter an integer\n",
      "Not an integer. Please enter an integer\n",
      "You guessed 5\n",
      "Too low\n",
      "You guessed 9\n",
      "Too high\n",
      "You guessed 8\n",
      "just right\n"
     ]
    }
   ],
   "source": [
    "\"\"\"\n",
    "Chapter 4.1\n",
    "\"\"\"\n",
    "\n",
    "import random\n",
    "\n",
    "secret = random.randint(1,10)\n",
    "\n",
    "while True:\n",
    "    try:\n",
    "        guess = int(input(\"Enter a number from 1 to 10:\"))\n",
    "        if 1 <= guess <= 10:\n",
    "            print(\"You guessed\",guess)\n",
    "            while secret != guess:\n",
    "                if guess > secret:\n",
    "                    print(\"Too high\")\n",
    "                    break\n",
    "                elif guess < secret:\n",
    "                    print(\"Too low\")\n",
    "                    break\n",
    "            else:\n",
    "                print(\"just right\")\n",
    "                break\n",
    "        else:\n",
    "            print(\"Number too low or high. Try entering number within the range\")\n",
    "    except ValueError:\n",
    "        print(\"Not an integer. Please enter an integer\") "
   ]
  },
  {
   "cell_type": "code",
   "execution_count": 1,
   "metadata": {},
   "outputs": [
    {
     "name": "stdout",
     "output_type": "stream",
     "text": [
      "It is a Cherry.\n"
     ]
    }
   ],
   "source": [
    "\"\"\"\n",
    "Chapter 4.2\n",
    "\"\"\"\n",
    "\n",
    "small = True\n",
    "green = False\n",
    "\n",
    "if small and green:\n",
    "    print(\"It is a Pea.\")\n",
    "elif small and not green:\n",
    "    print(\"It is a Cherry.\")\n",
    "elif not small and green:\n",
    "    print(\"It is a Watermelon.\")\n",
    "else:\n",
    "    print(\"It is a Pumpkin.\")"
   ]
  },
  {
   "cell_type": "code",
   "execution_count": 2,
   "metadata": {},
   "outputs": [
    {
     "name": "stdout",
     "output_type": "stream",
     "text": [
      "3\n",
      "2\n",
      "1\n",
      "0\n"
     ]
    }
   ],
   "source": [
    "\"\"\"\n",
    "Chapter 6.1\n",
    "\"\"\"\n",
    "\n",
    "list = [3, 2, 1, 0]\n",
    "\n",
    "for numbers in list:\n",
    "    print(numbers)"
   ]
  },
  {
   "cell_type": "code",
   "execution_count": null,
   "metadata": {},
   "outputs": [
    {
     "name": "stdout",
     "output_type": "stream",
     "text": [
      "1 is too low\n",
      "2 is too low\n",
      "3 is too low\n",
      "4 is too low\n",
      "5 is too low\n",
      "6 is too low\n",
      "7 is found\n",
      "8 oops\n"
     ]
    }
   ],
   "source": [
    "\"\"\"\n",
    "Chapter 6.2\n",
    "\"\"\"\n",
    "\n",
    "guess_me = 7\n",
    "number = 1\n",
    "\n",
    "while True:\n",
    "    if number < guess_me:\n",
    "        print(number,\"is too low\")\n",
    "    elif number == guess_me:\n",
    "        print(number,\"is found\")\n",
    "        break\n",
    "    elif number > guess_me:\n",
    "        print(number,\"oops\")\n",
    "        break\n",
    "    number += 1"
   ]
  },
  {
   "cell_type": "code",
   "execution_count": 36,
   "metadata": {},
   "outputs": [
    {
     "name": "stdout",
     "output_type": "stream",
     "text": [
      "0 is too low\n",
      "1 is too low\n",
      "2 is too low\n",
      "3 is too low\n",
      "4 is too low\n",
      "5 is found\n"
     ]
    }
   ],
   "source": [
    "\"\"\"\n",
    "Chapter 6.3\n",
    "\"\"\"\n",
    "\n",
    "guess_me = 5 \n",
    "\n",
    "for number in range(10):\n",
    "    if number < guess_me:\n",
    "        print(number,\"is too low\")\n",
    "    elif number == guess_me:\n",
    "        print(number,\"is found\")\n",
    "        break\n",
    "    elif number > guess_me:\n",
    "        print(number,\"oops\")\n",
    "        break"
   ]
  }
 ],
 "metadata": {
  "kernelspec": {
   "display_name": "Python 3",
   "language": "python",
   "name": "python3"
  },
  "language_info": {
   "codemirror_mode": {
    "name": "ipython",
    "version": 3
   },
   "file_extension": ".py",
   "mimetype": "text/x-python",
   "name": "python",
   "nbconvert_exporter": "python",
   "pygments_lexer": "ipython3",
   "version": "3.10.11"
  }
 },
 "nbformat": 4,
 "nbformat_minor": 2
}
