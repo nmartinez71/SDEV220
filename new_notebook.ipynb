{
 "cells": [
  {
   "cell_type": "code",
   "execution_count": null,
   "metadata": {},
   "outputs": [
    {
     "data": {
      "text/plain": [
       "'\\nNeftali Martinez\\nStudent GPA Checker\\nThis program checks if \\n'"
      ]
     },
     "execution_count": 8,
     "metadata": {},
     "output_type": "execute_result"
    }
   ],
   "source": [
    "\"\"\"\n",
    "Neftali Martinez\n",
    "Student GPA Checker\n",
    "This program checks if \n",
    "\"\"\""
   ]
  },
  {
   "cell_type": "code",
   "execution_count": null,
   "metadata": {},
   "outputs": [
    {
     "name": "stdout",
     "output_type": "stream",
     "text": [
      "Student GPA checker!\n",
      "\n",
      "Type ZZZ to quit\n"
     ]
    }
   ],
   "source": [
    "QUIT = \"ZZZ\"\n",
    "\n",
    "print(\"Student GPA checker!\")\n",
    "print(\"\\nType ZZZ to quit\")"
   ]
  },
  {
   "cell_type": "code",
   "execution_count": 3,
   "metadata": {},
   "outputs": [
    {
     "name": "stdout",
     "output_type": "stream",
     "text": [
      "Entered molly\n",
      "Entered Hamm\n",
      "Entered 3.2\n"
     ]
    }
   ],
   "source": [
    "student_lastname = input(\"Student last name:\")\n",
    "print(\"Entered\",student_lastname)\n",
    "student_firstname = input(\"Student first name:\")\n",
    "print(\"Entered\",student_firstname)\n",
    "student_gpa = float(input(\"Enter student\"))\n",
    "print(\"Entered\",student_gpa)"
   ]
  },
  {
   "cell_type": "code",
   "execution_count": 4,
   "metadata": {},
   "outputs": [
    {
     "name": "stdout",
     "output_type": "stream",
     "text": [
      "Hamm molly has not made it to either Dean's List or Honor Roll.\n"
     ]
    }
   ],
   "source": [
    "if student_gpa >= 3.5:\n",
    "    print(student_firstname, student_lastname,\"made it to the Dean's List!\")\n",
    "elif student_gpa >= 3.25 and student_gpa < 3.5:\n",
    "    print(student_firstname, student_lastname,\"made it to the Honor Roll!\")\n",
    "else:\n",
    "    print(student_firstname, student_lastname,\"has not made it to either Dean's List or Honor Roll.\")"
   ]
  }
 ],
 "metadata": {
  "kernelspec": {
   "display_name": "Python 3",
   "language": "python",
   "name": "python3"
  },
  "language_info": {
   "codemirror_mode": {
    "name": "ipython",
    "version": 3
   },
   "file_extension": ".py",
   "mimetype": "text/x-python",
   "name": "python",
   "nbconvert_exporter": "python",
   "pygments_lexer": "ipython3",
   "version": "3.12.7"
  }
 },
 "nbformat": 4,
 "nbformat_minor": 2
}
