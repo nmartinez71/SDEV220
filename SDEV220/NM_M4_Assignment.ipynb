{
 "cells": [
  {
   "cell_type": "code",
   "execution_count": null,
   "metadata": {},
   "outputs": [],
   "source": [
    "\"\"\"\n",
    "Neftali Martinez\n",
    "Module 4 Tutorials\n",
    "The programs here are part of a Module 4 Tutorial\n",
    "\"\"\""
   ]
  },
  {
   "cell_type": "code",
   "execution_count": 3,
   "metadata": {},
   "outputs": [
    {
     "ename": "ImportError",
     "evalue": "cannot import name 'hours' from 'zoo' (c:\\Users\\exodu\\Documents\\school\\SDEV_220\\SDEV220\\zoo.py)",
     "output_type": "error",
     "traceback": [
      "\u001b[1;31m---------------------------------------------------------------------------\u001b[0m",
      "\u001b[1;31mImportError\u001b[0m                               Traceback (most recent call last)",
      "Cell \u001b[1;32mIn[3], line 1\u001b[0m\n\u001b[1;32m----> 1\u001b[0m \u001b[38;5;28;01mfrom\u001b[39;00m \u001b[38;5;21;01mzoo\u001b[39;00m \u001b[38;5;28;01mimport\u001b[39;00m hours \u001b[38;5;28;01mas\u001b[39;00m menagerie\n\u001b[0;32m      3\u001b[0m menagerie()\n",
      "\u001b[1;31mImportError\u001b[0m: cannot import name 'hours' from 'zoo' (c:\\Users\\exodu\\Documents\\school\\SDEV_220\\SDEV220\\zoo.py)"
     ]
    }
   ],
   "source": [
    "from zoo import hours as menagerie\n",
    "\n",
    "menagerie()\n",
    "\n"
   ]
  }
 ],
 "metadata": {
  "kernelspec": {
   "display_name": "Python 3",
   "language": "python",
   "name": "python3"
  },
  "language_info": {
   "codemirror_mode": {
    "name": "ipython",
    "version": 3
   },
   "file_extension": ".py",
   "mimetype": "text/x-python",
   "name": "python",
   "nbconvert_exporter": "python",
   "pygments_lexer": "ipython3",
   "version": "3.10.11"
  }
 },
 "nbformat": 4,
 "nbformat_minor": 2
}
